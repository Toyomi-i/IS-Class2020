{
  "nbformat": 4,
  "nbformat_minor": 0,
  "metadata": {
    "colab": {
      "name": "IS_DataStructure1.ipynb",
      "provenance": [],
      "collapsed_sections": [],
      "authorship_tag": "ABX9TyN8+oK8r7OTwPJbGSChLjBj",
      "include_colab_link": true
    },
    "kernelspec": {
      "name": "python3",
      "display_name": "Python 3"
    }
  },
  "cells": [
    {
      "cell_type": "markdown",
      "metadata": {
        "id": "view-in-github",
        "colab_type": "text"
      },
      "source": [
        "<a href=\"https://colab.research.google.com/github/hajimu/IS-Class2020/blob/master/IS_DataStructure1.ipynb\" target=\"_parent\"><img src=\"https://colab.research.google.com/assets/colab-badge.svg\" alt=\"Open In Colab\"/></a>"
      ]
    },
    {
      "cell_type": "markdown",
      "metadata": {
        "id": "IGb_nXgOIcrG",
        "colab_type": "text"
      },
      "source": [
        "# Implementing SimpleStack as a class in Python\n",
        "Stack operation is alredy provided by built-in functions.\n",
        "You can use lists as stacks as follows:\n"
      ]
    },
    {
      "cell_type": "code",
      "metadata": {
        "id": "BV4g26r9Ik6P",
        "colab_type": "code",
        "colab": {}
      },
      "source": [
        "mystack =[] #empty list\n",
        "for i in range(10):\n",
        "  mystack.append(i)\n",
        "\n",
        "print(mystack)\n",
        "print(mystack.pop())\n",
        "print(mystack)"
      ],
      "execution_count": 0,
      "outputs": []
    },
    {
      "cell_type": "markdown",
      "metadata": {
        "id": "8HwRqKcOemk6",
        "colab_type": "text"
      },
      "source": [
        "However, we implement our SimpleStack by hand for study.\n",
        "Short priactice: add stack overflow chek to the code below:"
      ]
    },
    {
      "cell_type": "code",
      "metadata": {
        "id": "ISGSB8F5hZuO",
        "colab_type": "code",
        "colab": {}
      },
      "source": [
        "class SimpleStack:\n",
        "  maxsize = 100 #default stack size\n",
        "  def __init__(self):\n",
        "    self.top=0\n",
        "    self.body=[None] * self.maxsize\n",
        "  \n",
        "  def push(self,val):\n",
        "    self.body[self.top]=val\n",
        "    self.top += self.top + 1\n",
        "    return self\n",
        "\n",
        "  def pop(self):\n",
        "    if self.top == 0:\n",
        "      return None\n",
        "    self.top = self.top -1\n",
        "    return self.body[self.top]  \n",
        "# class end\n",
        "\n",
        "# Now test SimpleStack\n",
        "s = SimpleStack()\n",
        "for i in range(10):\n",
        "  s.push(i)\n",
        "\n",
        "print(s.pop(),s.pop(),s.pop(),s.pop(),s.pop(),s.pop())"
      ],
      "execution_count": 0,
      "outputs": []
    },
    {
      "cell_type": "markdown",
      "metadata": {
        "id": "rczCBcVqtz3K",
        "colab_type": "text"
      },
      "source": [
        "# Implementing SimpleQueue as a class in Python\n",
        "\n",
        "Queue equivalent operation is alredy provided by built-in functions.\n",
        "You can use lists as queues as follows:\n"
      ]
    },
    {
      "cell_type": "code",
      "metadata": {
        "id": "1KnIK1ZSUbf-",
        "colab_type": "code",
        "colab": {}
      },
      "source": [
        "myqueue =[] #empty list\n",
        "for i in range(10):\n",
        "  myqueue.append(i)\n",
        "\n",
        "print(myqueue)\n",
        "print(myqueue.pop(0))\n",
        "myqueue.append(100)\n",
        "print(myqueue.pop(0))\n",
        "myqueue.append(222)\n",
        "print(myqueue.pop(0))\n",
        "myqueue.append(333)\n",
        "print(myqueue.pop(0))\n",
        "print(myqueue)"
      ],
      "execution_count": 0,
      "outputs": []
    },
    {
      "cell_type": "markdown",
      "metadata": {
        "id": "GDkiOg4VVj18",
        "colab_type": "text"
      },
      "source": [
        "However, we implement our SimpleQueue by hand for study.\n"
      ]
    },
    {
      "cell_type": "code",
      "metadata": {
        "id": "UGrsKbGobHBv",
        "colab_type": "code",
        "colab": {}
      },
      "source": [
        "class SimpleQueue:\n",
        "  maxsize = 10 #default queue size\n",
        "  def __init__(self):\n",
        "    self.head= 0 #initially starts from 0\n",
        "    self.tail = self.head #initially empty\n",
        "    #This is a trick to allocate fixed size fo array\n",
        "    self.body= [None] * self.maxsize\n",
        "  \n",
        "  def queue(self,val):\n",
        "    self.body[self.tail]=val\n",
        "    if self.tail < self.maxsize:\n",
        "      self.tail=self.tail+1\n",
        "    else:\n",
        "      self.tail=0\n",
        "    return self\n",
        "\n",
        "  def dequeue(self):\n",
        "    if self.head == self.tail: #queue is empty\n",
        "      return None\n",
        "    retval = self.body[self.head]\n",
        "    self.body[self.head] = None #clear cell\n",
        "    self.head = self.head + 1\n",
        "    if self.head == self.maxsize:\n",
        "      self.head = 0\n",
        "    return retval\n",
        "  \n",
        "  def print(self):\n",
        "    print( '(', end = '')\n",
        "    for i in self.body:\n",
        "      print(i, end = ',')\n",
        "    print( ')')\n",
        "\n",
        "# class end\n",
        "# Now use SimpleStack\n",
        "\n",
        "q = SimpleQueue()\n",
        "for i in range(5):\n",
        "  q.queue(i)\n",
        "print(q.body)\n",
        "q.dequeue()\n",
        "print(q.body)\n",
        "q.dequeue()\n",
        "print(q.body)\n",
        "q.dequeue()\n",
        "print(q.body)\n",
        "q.queue(100)\n",
        "print(q.body)\n",
        "q.queue(101)\n",
        "print(q.body)\n",
        "q.dequeue(),q.dequeue(),q.dequeue()\n",
        "print(q.body)\n"
      ],
      "execution_count": 0,
      "outputs": []
    }
  ]
}