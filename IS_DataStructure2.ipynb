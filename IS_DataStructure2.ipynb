{
  "nbformat": 4,
  "nbformat_minor": 0,
  "metadata": {
    "colab": {
      "name": "IS_DataStructure2.ipynb",
      "provenance": [],
      "collapsed_sections": [],
      "authorship_tag": "ABX9TyPrW/ud61Ere/lAWK1P1Bn8",
      "include_colab_link": true
    },
    "kernelspec": {
      "name": "python3",
      "display_name": "Python 3"
    }
  },
  "cells": [
    {
      "cell_type": "markdown",
      "metadata": {
        "id": "view-in-github",
        "colab_type": "text"
      },
      "source": [
        "<a href=\"https://colab.research.google.com/github/hajimu/IS-Class2020/blob/master/IS_DataStructure2.ipynb\" target=\"_parent\"><img src=\"https://colab.research.google.com/assets/colab-badge.svg\" alt=\"Open In Colab\"/></a>"
      ]
    },
    {
      "cell_type": "markdown",
      "metadata": {
        "id": "sxctlWfJ-A0n",
        "colab_type": "text"
      },
      "source": [
        "#Implementing Doubly-Linked-List in Python\n",
        "\n",
        "A node is implemented as an object. We define \"Node\" class.\n",
        "Node object has three variables: key, prev, next.\n",
        "Node object itself has no methods.\n",
        "Prev and next store references to other object.\n",
        "Storing an object reference into an variable is easily described as an assignment statemt like:\n",
        "```\n",
        "# An instance of 'Node' is created. the reference to that is stored to 'node1'\n",
        ">>> node1 = Node(1234) # a Node object is created with key value 1234\n",
        "\n",
        "# Then assign the value in node1 (refrence to the object is stored to 'node2'\n",
        ">>> node2 = node1\n",
        "\n",
        "# As a result, both node1 and node2 has the same reference to one object.\n",
        ">>> print(node1.key, node2.key)\n",
        "1234 1234\n",
        ">>> node2.key = 5678\n",
        ">>> print(node1.key, node2.key)\n",
        "5678 5678\n",
        "```\n",
        "We also need an object represent a whole list.We define \"MyList\" class.\n",
        "MyList object has one variable: top that stores a reference to the top Node in the list.\n",
        "MyList object has (at least) three methods: insert, delete, search.\n",
        "```\n",
        "list1 = MyList()\n",
        "list1.insert(node1)\n",
        "list1.delete(node2)\n",
        "list1.search(5678)\n",
        "````\n"
      ]
    },
    {
      "cell_type": "code",
      "metadata": {
        "id": "Z2ykOm19_ncT",
        "colab_type": "code",
        "outputId": "53c69bd6-558c-4b31-a863-f62958096e37",
        "colab": {
          "base_uri": "https://localhost:8080/",
          "height": 52
        }
      },
      "source": [
        "class Node:\n",
        "  def __init__(self,key):\n",
        "    self.key=key\n",
        "    self.prev=None\n",
        "    self.next=None\n",
        "\n",
        "class MyList:\n",
        "  def __init__(self):\n",
        "    self.head=None\n",
        "\n",
        "  def search(self,k):\n",
        "    visit = self.head\n",
        "    while visit != None and visit.key != k:\n",
        "      visit = visit.next\n",
        "    return visit\n",
        "    \n",
        "  def insert(self, node):\n",
        "    node.next = self.head\n",
        "    if self.head != None: #not empty list\n",
        "      self.head.prev = node\n",
        "    self.head = node\n",
        "\n",
        "  def delete(self, node):\n",
        "    if node.prev != None:\n",
        "      node.prev.next = node.next\n",
        "    else:\n",
        "      self.head = node.next\n",
        "    if node.next != None:\n",
        "      node.next.prev = node.prev\n",
        "\n",
        "  def print(self):\n",
        "    visit = self.head\n",
        "    print('[', end='')\n",
        "    while visit != None:\n",
        "      print(visit.key,end=',')\n",
        "      visit = visit.next\n",
        "\n",
        "#class MyVisitor:\n",
        "#  def visit(self,list,func):\n",
        "#    node = list.head\n",
        "#    while node != None:\n",
        "#      func(node.key)\n",
        "#      node = node.next\n",
        "\n",
        "##########################\n",
        "#initialize a list by inserting 0..49\n",
        "l = MyList()\n",
        "for i in range(50):\n",
        "  l.insert(Node(i))\n",
        "#try a search\n",
        "n = l.search(25)\n",
        "print( '...',n.prev.key, ',', n.key, ',', n.next.key, '...')\n",
        "#try to delete a node\n",
        "l.delete(n)\n",
        "l.print()\n",
        "# v = MyVisitor()\n",
        "# v.visit(list=l,func=print)"
      ],
      "execution_count": 0,
      "outputs": [
        {
          "output_type": "stream",
          "text": [
            "... 26 , 25 , 24 ...\n",
            "[49,48,47,46,45,44,43,42,41,40,39,38,37,36,35,34,33,32,31,30,29,28,27,26,24,23,22,21,20,19,18,17,16,15,14,13,12,11,10,9,8,7,6,5,4,3,2,1,0,"
          ],
          "name": "stdout"
        }
      ]
    },
    {
      "cell_type": "markdown",
      "metadata": {
        "id": "zKGcnqygtVLl",
        "colab_type": "text"
      },
      "source": [
        "# Sentinel"
      ]
    },
    {
      "cell_type": "code",
      "metadata": {
        "id": "FgEWO6EMtXNd",
        "colab_type": "code",
        "colab": {}
      },
      "source": [
        "class Node:\n",
        "  def __init__(self,key):\n",
        "    self.key=key\n",
        "    self.prev=None\n",
        "    self.next=None\n",
        "\n",
        "class MyList2:\n",
        "  def __init__(self):\n",
        "    # Create and insert a sentinel (=self.nil) at first\n",
        "    n = Node(None)\n",
        "    n.next = n.prev = self.nil = n\n",
        "\n",
        "  def search(self,k):\n",
        "    visit = self.nil.next\n",
        "    while visit != None and visit.key != k:\n",
        "      visit = visit.next\n",
        "    return None # not found\n",
        " \n",
        "   def insert(self, node):\n",
        "    node.next = self.nil.next\n",
        "    self.nil.next.prev = node\n",
        "    self.nil.next = node\n",
        "    node.prev = self.nil\n",
        "   \n",
        "  def delete(self, node):\n",
        "    node.prev.next = node.next\n",
        "    node.next.prev = node.prev\n",
        "    return None\n",
        "\n",
        "  def print(self):\n",
        "    visit = self.nil\n",
        "    print('[', end='')\n",
        "    while visit.key != None:\n",
        "      print(visit.key,end=',')\n",
        "      visit = visit.next\n",
        "\n",
        "#class MyVisitor:\n",
        "#  def visit(self,list,func):\n",
        "#    node = list.nil\n",
        "#    while node != None:\n",
        "#      func(node.key)\n",
        "#      node = node.next\n",
        "\n",
        "##########################\n",
        "#initialize a list by inserting 0..49\n",
        "l = MyList2()\n",
        "for i in range(50):\n",
        "  l.insert(Node(i))\n",
        "#try a search\n",
        "n = l.search(25)\n",
        "print( '...',n.prev.key, ',', n.key, ',', n.next.key, '...')\n",
        "#try to delete a node\n",
        "l.delete(n)\n",
        "l.print()\n",
        "# v = MyVisitor()\n",
        "# v.visit(list=l,func=print)"
      ],
      "execution_count": 0,
      "outputs": []
    },
    {
      "cell_type": "code",
      "metadata": {
        "id": "Kv4M4cKk5MKH",
        "colab_type": "code",
        "outputId": "27694a41-298d-4750-9cf5-2bb7a787ee9f",
        "colab": {
          "base_uri": "https://localhost:8080/",
          "height": 34
        }
      },
      "source": [
        "l.print()"
      ],
      "execution_count": 0,
      "outputs": [
        {
          "output_type": "stream",
          "text": [
            "[49,48,47,46,45,44,43,42,41,40,39,38,37,36,35,34,33,32,31,30,29,28,27,26,24,23,22,21,20,19,18,17,16,15,14,13,12,11,10,9,8,7,6,5,4,3,2,1,0,"
          ],
          "name": "stdout"
        }
      ]
    }
  ]
}