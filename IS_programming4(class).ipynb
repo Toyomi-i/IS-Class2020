{
  "nbformat": 4,
  "nbformat_minor": 0,
  "metadata": {
    "colab": {
      "name": "IS_programming4(class).ipynb",
      "provenance": [],
      "authorship_tag": "ABX9TyMED1kmLgFzPsOiNNmAro4R",
      "include_colab_link": true
    },
    "kernelspec": {
      "name": "python3",
      "display_name": "Python 3"
    }
  },
  "cells": [
    {
      "cell_type": "markdown",
      "metadata": {
        "id": "view-in-github",
        "colab_type": "text"
      },
      "source": [
        "<a href=\"https://colab.research.google.com/github/hajimu/IS-Class2020/blob/master/IS_programming4(class).ipynb\" target=\"_parent\"><img src=\"https://colab.research.google.com/assets/colab-badge.svg\" alt=\"Open In Colab\"/></a>"
      ]
    },
    {
      "cell_type": "markdown",
      "metadata": {
        "id": "2_YWnGrueH70",
        "colab_type": "text"
      },
      "source": [
        "# Defining a Class\n",
        "\n",
        "```\n",
        "class <CLASSNAME> ():\n",
        "  \"\"\"Doc String\"\"\" #optional\n",
        "  <Initialization of variables>\n",
        "  <definitions of methods>\n",
        "\n",
        "```\n",
        "Class objects support two kinds of operations: attribute references and instantiation.\n",
        "\n",
        "Attribute references use the standard syntax used for all attribute references in Python: obj.name. Valid attribute names are all the names that were in the class’s namespace when the class object was created. So, if the class definition looked like this:\n",
        "```\n",
        "class MyClass:\n",
        "    \"\"\"A simple example class\"\"\"\n",
        "    i = 12345\n",
        "def f(self):\n",
        "        return 'hello world'\n",
        "```\n",
        "then *MyClass.i* and *MyClass.f* are valid attribute references, returning an integer and a function object, respectively. \n",
        "\n",
        "### Instantiation\n",
        " Just pretend that the class object is a parameterless function that returns a new instance of the class. For example (assuming the above class):\n",
        "```\n",
        "x = MyClass()\n",
        "```\n",
        "creates a new *instance* of the class and assigns this object to the local variable *x*.\n",
        "The instantiation operation (“calling” a class object) creates an empty object. Many classes like to create objects with instances customized to a specific initial state. Therefore a class may define a special method named *__init__()*, like this:\n",
        "```\n",
        "def __init__(self):\n",
        "    self.data = []\n",
        "```\n",
        "When a class defines an?__init__()?method, class instantiation automatically invokes?__init__()?for the newly-created class instance. So in this example, a new, initialized instance can be obtained by:\n",
        "```\n",
        "x = MyClass()\n",
        "```\n",
        "Of course, the*__init__()*method may have arguments for greater flexibility. In that case, arguments given to the class instantiation operator are passed on to*__init__()*. For example,\n",
        "```\n",
        ">>>\n",
        ">>> class Complex:\n",
        "     def __init__(self, realpart, imagpart):\n",
        "         self.r = realpart\n",
        "         self.i = imagpart\n",
        "\n",
        ">>> x = Complex(3.0, -4.5)\n",
        ">>> x.r, x.i\n",
        "(3.0, -4.5)\n",
        "```\n"
      ]
    },
    {
      "cell_type": "markdown",
      "metadata": {
        "id": "6URAn749g_yl",
        "colab_type": "text"
      },
      "source": [
        "## Instance Objects\n",
        "Now what can we do with instance objects? The only operations understood by instance objects are attribute references. There are two kinds of valid attribute names: data attributes and methods.\n",
        "\n",
        "*data attributes* correspond to “instance variables” in Smalltalk, and to “data members” in C++. Data attributes need not be declared; like local variables, they spring into existence when they are first assigned to. For example, if *x* is the instance of *MyClass* created above, the following piece of code will print the value 16, without leaving a trace:\n",
        "```\n",
        "x.counter = 1\n",
        "while x.counter < 10:\n",
        "    x.counter = x.counter * 2\n",
        "print(x.counter)\n",
        "del x.counter\n",
        "```\n",
        "The other kind of instance attribute reference is a *method*. A method is a function that “belongs to” an object. (In Python, the term method is not unique to class instances: other object types can have methods as well. For example, list objects have methods called append, insert, remove, sort, and so on. However, in the following discussion, we’ll use the term method exclusively to mean methods of class instance objects, unless explicitly stated otherwise.)\n",
        "Valid method names of an instance object depend on its class. By definition, all attributes of a class that are function objects define corresponding methods of its instances. So in our example, *x.f* is a valid method reference, since *MyClass.f* is a function, but *x.i* is not, since *MyClass.i* is not. But *x.f* is not the same thing as *MyClass.f* it is a *method object*, not a function object.\n",
        "...\n",
        "\n"
      ]
    },
    {
      "cell_type": "markdown",
      "metadata": {
        "id": "2FtteAXTjqSN",
        "colab_type": "text"
      },
      "source": [
        "9.3.5.?Class and Instance Variables\n",
        "Generally speaking, instance variables are for data unique to each instance and class variables are for attributes and methods shared by all instances of the class:\n",
        "```\n",
        "class Dog:\n",
        "    kind = 'canine'         # class variable shared by all instances\n",
        "    def __init__(self, name):\n",
        "        self.name = name    # instance variable unique to each instance\n",
        ">>> d = Dog('Fido')\n",
        ">>> e = Dog('Buddy')\n",
        ">>> d.kind                  # shared by all dogs\n",
        "'canine'\n",
        ">>> e.kind                  # shared by all dogs\n",
        "'canine'\n",
        ">>> d.name                  # unique to d\n",
        "'Fido'\n",
        ">>> e.name                  # unique to e\n",
        "'Buddy'\n",
        "```\n",
        "As discussed in A Word About Names and Objects, shared data can have possibly surprising effects with involving mutable objects such as lists and dictionaries. For example, the tricks list in the following code should not be used as a class variable because just a single list would be shared by all Dog instances:\n",
        "```\n",
        "class Dog:\n",
        "    tricks = []             # mistaken use of a class variable\n",
        "    def __init__(self, name):\n",
        "        self.name = name\n",
        "    def add_trick(self, trick):\n",
        "        self.tricks.append(trick)\n",
        ">>> d = Dog('Fido')\n",
        ">>> e = Dog('Buddy')\n",
        ">>> d.add_trick('roll over')\n",
        ">>> e.add_trick('play dead')\n",
        ">>> d.tricks                # unexpectedly shared by all dogs\n",
        "['roll over', 'play dead']\n",
        "```\n",
        "Correct design of the class should use an instance variable instead:\n",
        "```\n",
        "class Dog:\n",
        "    def __init__(self, name):\n",
        "        self.name = name\n",
        "        self.tricks = []    # creates a new empty list for each dog\n",
        "    def add_trick(self, trick):\n",
        "        self.tricks.append(trick)\n",
        ">>> d = Dog('Fido')\n",
        ">>> e = Dog('Buddy')\n",
        ">>> d.add_trick('roll over')\n",
        ">>> e.add_trick('play dead')\n",
        ">>> d.tricks\n",
        "['roll over']\n",
        ">>> e.tricks\n",
        "['play dead']\n",
        "``\n"
      ]
    },
    {
      "cell_type": "markdown",
      "metadata": {
        "id": "DoYw81LSkire",
        "colab_type": "text"
      },
      "source": [
        "## Inheritance\n",
        "Of course, a language feature would not be worthy of the name “class” without supporting inheritance. The syntax for a derived class definition looks like this:\n",
        "```\n",
        "class DerivedClassName(BaseClassName):\n",
        "    <statement-1>\n",
        "    .\n",
        "    .\n",
        "    .\n",
        "    <statement-N>\n",
        "```\n",
        "The name BaseClassName must be defined in a scope containing the derived class definition. In place of a base class name, other arbitrary expressions are also allowed.\n"
      ]
    },
    {
      "cell_type": "code",
      "metadata": {
        "id": "j9gGzLNMsbMC",
        "colab_type": "code",
        "colab": {
          "base_uri": "https://localhost:8080/",
          "height": 241
        },
        "outputId": "652e22de-9ed5-4e4d-aed8-1302f0f5f6c2"
      },
      "source": [
        "class Human:\n",
        "  def __init__(self,name):\n",
        "    self.name = name\n",
        "  def hello():\n",
        "    print(\"Hello!\")\n",
        "\n",
        "comm = [None]*2 # just a trick to allocate array\n",
        "comm[1] = Human(\"John\")\n",
        "\n",
        "comm2 = []\n",
        "comm2.append(Human(\"Jack\"))\n",
        "comm2\n",
        "\n",
        "comm3 = Array()\n",
        "comm3.append(1)\n",
        "comm3"
      ],
      "execution_count": 12,
      "outputs": [
        {
          "output_type": "error",
          "ename": "NameError",
          "evalue": "ignored",
          "traceback": [
            "\u001b[0;31m---------------------------------------------------------------------------\u001b[0m",
            "\u001b[0;31mNameError\u001b[0m                                 Traceback (most recent call last)",
            "\u001b[0;32m<ipython-input-12-12b8369016f3>\u001b[0m in \u001b[0;36m<module>\u001b[0;34m()\u001b[0m\n\u001b[1;32m     12\u001b[0m \u001b[0mcomm2\u001b[0m\u001b[0;34m\u001b[0m\u001b[0;34m\u001b[0m\u001b[0m\n\u001b[1;32m     13\u001b[0m \u001b[0;34m\u001b[0m\u001b[0m\n\u001b[0;32m---> 14\u001b[0;31m \u001b[0mcomm3\u001b[0m \u001b[0;34m=\u001b[0m \u001b[0mArray\u001b[0m\u001b[0;34m(\u001b[0m\u001b[0;34m)\u001b[0m\u001b[0;34m\u001b[0m\u001b[0;34m\u001b[0m\u001b[0m\n\u001b[0m\u001b[1;32m     15\u001b[0m \u001b[0mcomm3\u001b[0m\u001b[0;34m.\u001b[0m\u001b[0mappend\u001b[0m\u001b[0;34m(\u001b[0m\u001b[0;36m1\u001b[0m\u001b[0;34m)\u001b[0m\u001b[0;34m\u001b[0m\u001b[0;34m\u001b[0m\u001b[0m\n\u001b[1;32m     16\u001b[0m \u001b[0mcomm3\u001b[0m\u001b[0;34m\u001b[0m\u001b[0;34m\u001b[0m\u001b[0m\n",
            "\u001b[0;31mNameError\u001b[0m: name 'Array' is not defined"
          ]
        }
      ]
    }
  ]
}