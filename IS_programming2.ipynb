{
  "nbformat": 4,
  "nbformat_minor": 0,
  "metadata": {
    "colab": {
      "name": "IS-programming2.ipynb",
      "provenance": [],
      "collapsed_sections": [
        "sl8HUhnQaHwY"
      ],
      "toc_visible": true,
      "authorship_tag": "ABX9TyMyCqvxlTBMZUKy5CQKQ2Iv",
      "include_colab_link": true
    },
    "kernelspec": {
      "name": "python3",
      "display_name": "Python 3"
    }
  },
  "cells": [
    {
      "cell_type": "markdown",
      "metadata": {
        "id": "view-in-github",
        "colab_type": "text"
      },
      "source": [
        "<a href=\"https://colab.research.google.com/github/hajimu/IS-Class2020/blob/master/IS_programming2.ipynb\" target=\"_parent\"><img src=\"https://colab.research.google.com/assets/colab-badge.svg\" alt=\"Open In Colab\"/></a>"
      ]
    },
    {
      "cell_type": "markdown",
      "metadata": {
        "id": "UEJBilI6XcwU",
        "colab_type": "text"
      },
      "source": [
        "# Writing a program \n",
        "## Program is a sequence of statements (instructions).\n",
        "```\n",
        "a = 2\n",
        "b = 3\n",
        "c = a**2+b\n",
        "c\n",
        "```\n",
        "\n"
      ]
    },
    {
      "cell_type": "code",
      "metadata": {
        "id": "oqLeQokdoMdt",
        "colab_type": "code",
        "outputId": "79eab897-2518-40a0-b16e-8275d42b500c",
        "colab": {
          "base_uri": "https://localhost:8080/",
          "height": 34
        }
      },
      "source": [
        "# Try your self with above code\n",
        "a = 2\n",
        "b = 3\n",
        "c = a**2 + b\n",
        "c"
      ],
      "execution_count": 0,
      "outputs": [
        {
          "output_type": "execute_result",
          "data": {
            "text/plain": [
              "7"
            ]
          },
          "metadata": {
            "tags": []
          },
          "execution_count": 3
        }
      ]
    },
    {
      "cell_type": "markdown",
      "metadata": {
        "id": "inka6tDSYARV",
        "colab_type": "text"
      },
      "source": [
        "In this example, a, b, and c are *variables*."
      ]
    },
    {
      "cell_type": "markdown",
      "metadata": {
        "colab_type": "text",
        "id": "VNDa24VfppUY"
      },
      "source": [
        "# Variables \n",
        "Variable: Assignee (data container)\n",
        "\n",
        "* Depending on the language, it is necessary to declare the name and type of the variable to be used in advance.\n",
        "* In the case of an interpreter language, declaration and type specification are often unnecessary.\n",
        "* As in an example below, variables are automatically recognized and their types are automatically determined according to the textual expression and context by the Python interpreter\n",
        "\n",
        "\n",
        "\n",
        "\n",
        "```\n",
        "a = 1 #int\n",
        "b = 2.0 #float\n",
        "c = a + b #float\n",
        "a=a + 0.5 #float\n",
        "print(a,b,c)\n",
        "```\n",
        "\n",
        "\n",
        "\n"
      ]
    },
    {
      "cell_type": "code",
      "metadata": {
        "colab_type": "code",
        "id": "OXNYZMMUZVj4",
        "outputId": "c1a31f58-5688-4143-d5b5-b9e0a24a5388",
        "colab": {
          "base_uri": "https://localhost:8080/",
          "height": 34
        }
      },
      "source": [
        "# try your self with above code\n",
        "a = 1\n",
        "b = 2.0\n",
        "c = a + b\n",
        "a = a + 0.5\n",
        "print(a,b,c)"
      ],
      "execution_count": 0,
      "outputs": [
        {
          "output_type": "stream",
          "text": [
            "1.5 2.0 3.0\n"
          ],
          "name": "stdout"
        }
      ]
    },
    {
      "cell_type": "markdown",
      "metadata": {
        "id": "sl8HUhnQaHwY",
        "colab_type": "text"
      },
      "source": [
        "# Input and output\n",
        "*   input statement takes a string from command line\n",
        "\n",
        "*   print statement outputs values according to their types (fancy output is not treated in this class)\n",
        "\n",
        "```\n",
        "name = input(\"Type your name:\") # input( string for prompt message )\n",
        "print(\"Hello\",name) # print ( values, .... )\n",
        "```\n",
        "\n",
        "\n",
        "\n"
      ]
    },
    {
      "cell_type": "code",
      "metadata": {
        "id": "BlwUMTpdbG3e",
        "colab_type": "code",
        "outputId": "0a25cc72-46f2-40f6-9619-4f7d02e02696",
        "colab": {
          "base_uri": "https://localhost:8080/",
          "height": 52
        }
      },
      "source": [
        "# Try your self with above code\n",
        "name = input(\"Type your nane:\")\n",
        "print(\"Hello\",name)"
      ],
      "execution_count": 0,
      "outputs": [
        {
          "output_type": "stream",
          "text": [
            "Type your nane:Hajimu\n",
            "Hello Hajimu\n"
          ],
          "name": "stdout"
        }
      ]
    },
    {
      "cell_type": "markdown",
      "metadata": {
        "id": "Out1AuIwKgz6",
        "colab_type": "text"
      },
      "source": [
        "# Operators\n"
      ]
    },
    {
      "cell_type": "markdown",
      "metadata": {
        "id": "r8x49PsDbLlM",
        "colab_type": "text"
      },
      "source": [
        "### Arithmetic Operators\n",
        "```\n",
        "+\tAddition\tx + y\t\n",
        "-\tSubtraction\tx - y\t\n",
        "*\tMultiplication\tx * y\t\n",
        "/\tDivision\tx / y\t\n",
        "%\tModulus\tx % y\t\n",
        "**\tExponentiation\tx ** y\t\n",
        "//\tFloor division\tx // y\n",
        "```\n"
      ]
    },
    {
      "cell_type": "markdown",
      "metadata": {
        "id": "IoVrPib3LS4K",
        "colab_type": "text"
      },
      "source": [
        "### Comparison Operators\n",
        "```\n",
        "==\tEqual\tx == y\t\n",
        "!=\tNot equal\tx != y\t\n",
        ">\tGreater than\tx > y\t\n",
        "<\tLess than\tx < y\t\n",
        ">=\tGreater than or equal to\tx >= y\t\n",
        "<=\tLess than or equal to\tx <= y\n",
        "```\n",
        "\n"
      ]
    },
    {
      "cell_type": "markdown",
      "metadata": {
        "id": "ybjyeSirLWeA",
        "colab_type": "text"
      },
      "source": [
        "### Logical Operators\n",
        "```\n",
        "and Returns True if both of two operands have True values: a > b and b > c\n",
        "or\tReturns True if at least one of two oeprands have True value: a > b or a = b\n",
        "not\tReturns reversed value of the oprand:\tnot(a<b)\n",
        "```\n",
        "Read language reference for all available operators.\n",
        "https://docs.python.org/3/library/operator.html#mapping-operators-to-functions"
      ]
    },
    {
      "cell_type": "markdown",
      "metadata": {
        "id": "ES8ns2L2upNH",
        "colab_type": "text"
      },
      "source": [
        "# Control statements\n",
        "\n",
        "* Conditional branch (if statement)\n",
        "* Iteration (for, while statement)\n",
        "\n",
        "visit <https://docs.python.org/3/tutorial/controlflow.html> for detail"
      ]
    },
    {
      "cell_type": "markdown",
      "metadata": {
        "id": "GuZPGw4gvG2f",
        "colab_type": "text"
      },
      "source": [
        "## if statement\n",
        "```\n",
        "if <condition> : # colon is required\n",
        "    <true part> # indent with 4 white spaces\n",
        "else: #colon is required\n",
        "    <false part>\n",
        "#Block ends where indent ends.\n",
        "```\n",
        "elif (short for else if) can be used to avoid excessive indentation. \n",
        "```\n",
        "# Example\n",
        "x = int(input(\"Please enter an integer: \"))\n",
        "if x < 0:\n",
        "    x = 0\n",
        "    print('Negative changed to zero')\n",
        "elif x == 0:\n",
        "    print('Zero')\n",
        "elif x == 1:\n",
        "    print('Single')\n",
        "else:\n",
        "    print('More')\n",
        "```\n",
        "Above is equivalent to:\n",
        "```\n",
        "# Example\n",
        "x = int(input(\"Please enter an integer: \"))\n",
        "if x < 0:\n",
        "    x = 0\n",
        "    print('Negative changed to zero')\n",
        "else:\n",
        "    if x == 0:\n",
        "        print('Zero')\n",
        "    else:\n",
        "        if x == 1:\n",
        "            print('Single')\n",
        "        else:\n",
        "            print('More')\n",
        "```\n"
      ]
    },
    {
      "cell_type": "code",
      "metadata": {
        "id": "NQv0ZQ4AvrO6",
        "colab_type": "code",
        "colab": {}
      },
      "source": [
        "#execute code above"
      ],
      "execution_count": 0,
      "outputs": []
    },
    {
      "cell_type": "markdown",
      "metadata": {
        "id": "70iw85fDvpOx",
        "colab_type": "text"
      },
      "source": [
        "## Iteration\n",
        "Iterative statement is essentially a conditional jump (loop).\n"
      ]
    },
    {
      "cell_type": "markdown",
      "metadata": {
        "id": "ds_Elx-1DB1Z",
        "colab_type": "text"
      },
      "source": [
        "### While statement\n",
        "```\n",
        "while <condition> : #don't forget colon\n",
        "     #do something important\n",
        "     #do something to make the condition true\n",
        "#end of indentation indicates the end of loop\n",
        "#do something here after yo get out of while loop\n",
        "```\n",
        "Body statement is not executed if the condition is False at the beginning.\n",
        "There is no **repeat** statement in python.\n",
        "```\n",
        "name = input(\"What's your name?\")\n",
        "while name != 'bye':\n",
        "    print('Hi,', name, '!')\n",
        "    name = input(\"What's your name?\")\n",
        "print('good Bye!')\n",
        "```"
      ]
    },
    {
      "cell_type": "code",
      "metadata": {
        "id": "4mXo-WhfFDDS",
        "colab_type": "code",
        "colab": {}
      },
      "source": [
        "#try code above"
      ],
      "execution_count": 0,
      "outputs": []
    },
    {
      "cell_type": "markdown",
      "metadata": {
        "id": "MxCwP0OqGynK",
        "colab_type": "text"
      },
      "source": [
        "but with \"break\" statement, you don't have to write input statement twice:\n",
        "```\n",
        "while True:\n",
        "    name = input(\"What's your name?\")\n",
        "    if name == 'bye':\n",
        "        break\n",
        "    print('Hi,', name, '!')\n",
        "print('good Bye!')\n",
        "```\n",
        "*break* statement lets you jump out of the innermost iteration."
      ]
    },
    {
      "cell_type": "code",
      "metadata": {
        "id": "ggDHNJwaHSqC",
        "colab_type": "code",
        "colab": {}
      },
      "source": [
        "#try code above"
      ],
      "execution_count": 0,
      "outputs": []
    },
    {
      "cell_type": "markdown",
      "metadata": {
        "id": "VBFS2VstyCp_",
        "colab_type": "text"
      },
      "source": [
        "### For statement\n",
        "```\n",
        "for *variable* in [list or something] : #don't forget colon\n",
        "    #do something\n",
        "#end of indentation indicates the end of loop\n",
        "```"
      ]
    },
    {
      "cell_type": "code",
      "metadata": {
        "id": "6qXGnT3FyCOx",
        "colab_type": "code",
        "colab": {}
      },
      "source": [
        "for animal in ['dog','cat','panda']:\n",
        "    print(animal),\n",
        "print(\"are animals\")"
      ],
      "execution_count": 0,
      "outputs": []
    },
    {
      "cell_type": "markdown",
      "metadata": {
        "id": "_AzA5b6Gzfb8",
        "colab_type": "text"
      },
      "source": [
        "*If* you do need to iterate over a sequence of numbers, the built-in function ''range()''comes in handy. It generates arithmetic progressions:\n"
      ]
    },
    {
      "cell_type": "code",
      "metadata": {
        "id": "RodcM2jgnzhe",
        "colab_type": "code",
        "colab": {}
      },
      "source": [
        "for i in range(5):\n",
        "    print(i)\n",
        "for i in range(7,10):\n",
        "    print(i)"
      ],
      "execution_count": 0,
      "outputs": []
    },
    {
      "cell_type": "markdown",
      "metadata": {
        "id": "YQDP3R7k0gqR",
        "colab_type": "text"
      },
      "source": [
        "### *break* and *continue* Statements, and *else* Clauses on Loops\n",
        "* The *break* statement breaks out of the innermost enclosing *for* or *while* loop.\n",
        "* *Python's unique feature:* Loop statements may have an *else* clause; it is executed when the loop terminates through exhaustion of the iterable (with for) or when the condition becomes false (with while), but not when the loop is terminated by a *break* statement. This is exemplified by the following loop, which searches for prime numbers:\n",
        "```\n",
        "for n in range(2, 10):\n",
        "    for x in range(2, n):\n",
        "        if n % x == 0:\n",
        "            print(n, 'equals', x, '*', n//x)\n",
        "            break\n",
        "    else:\n",
        "        # loop fell through without finding a factor\n",
        "        print(n, 'is a prime number')\n",
        "#end\n",
        "```\n"
      ]
    },
    {
      "cell_type": "code",
      "metadata": {
        "id": "5YWaaTCTze3D",
        "colab_type": "code",
        "colab": {}
      },
      "source": [
        "#try code above"
      ],
      "execution_count": 0,
      "outputs": []
    },
    {
      "cell_type": "markdown",
      "metadata": {
        "id": "Jxv9GMXd1vsH",
        "colab_type": "text"
      },
      "source": [
        "# Mini report 1\n",
        "Assume if we don't have either break or else-on-loop statement available, how do we need to modify the code above?\n",
        "~~ Write a code without break and else-on-loop statements to do the same work.\n",
        "\n",
        "***\n",
        " Instruction to submit your report will be provided separately.\n"
      ]
    },
    {
      "cell_type": "code",
      "metadata": {
        "id": "a1EuJGzV2kSg",
        "colab_type": "code",
        "colab": {}
      },
      "source": [
        "# write your code and execute"
      ],
      "execution_count": 0,
      "outputs": []
    }
  ]
}